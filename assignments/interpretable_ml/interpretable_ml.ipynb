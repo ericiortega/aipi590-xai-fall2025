{
  "cells": [
    {
      "cell_type": "markdown",
      "metadata": {
        "id": "view-in-github",
        "colab_type": "text"
      },
      "source": [
        "<a href=\"https://colab.research.google.com/github/ericiortega/aipi590-xai-fall2025/blob/main/assignments/interpretable_ml/interpretable_ml.ipynb\" target=\"_parent\"><img src=\"https://colab.research.google.com/assets/colab-badge.svg\" alt=\"Open In Colab\"/></a>"
      ]
    },
    {
      "cell_type": "markdown",
      "id": "2da4e9d7",
      "metadata": {
        "id": "2da4e9d7"
      },
      "source": [
        "# Interpretable ML Assignment\n",
        "**Course:** AIPI 590 – Emerging Trends in Explainable AI (Fall 2025)  \n",
        "**Author:** Eric Ortega Rodriguez\n",
        "**Dataset:** [Telco Customer Churn](https://www.kaggle.com/datasets/blastchar/telco-customer-churn)\n",
        "\n",
        "---\n"
      ]
    },
    {
      "cell_type": "markdown",
      "source": [
        "### Importing Libraries"
      ],
      "metadata": {
        "id": "g8-zE_VnSUGC"
      },
      "id": "g8-zE_VnSUGC"
    },
    {
      "cell_type": "code",
      "execution_count": 3,
      "id": "uqFqFrjqKky8",
      "metadata": {
        "id": "uqFqFrjqKky8"
      },
      "outputs": [],
      "source": [
        "import pandas as pd\n",
        "\n",
        "# Load dataset directly from your GitHub repo\n",
        "churn_data = \"https://raw.githubusercontent.com/ericiortega/aipi590-xai-fall2025/main/data/telco_customer_churn.csv\"\n",
        "df = pd.read_csv(churn_data)\n",
        "\n",
        "# print(df.shape)\n",
        "# df.head()\n"
      ]
    },
    {
      "cell_type": "markdown",
      "id": "97632376",
      "metadata": {
        "id": "97632376"
      },
      "source": []
    }
  ],
  "metadata": {
    "colab": {
      "provenance": [],
      "include_colab_link": true
    },
    "kernelspec": {
      "display_name": "Python 3",
      "name": "python3"
    },
    "language_info": {
      "name": "python"
    }
  },
  "nbformat": 4,
  "nbformat_minor": 5
}