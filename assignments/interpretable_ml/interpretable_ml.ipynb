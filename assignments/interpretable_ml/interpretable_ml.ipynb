{
 "cells": [
  {
   "cell_type": "markdown",
   "id": "2da4e9d7",
   "metadata": {},
   "source": [
    "# Interpretable ML Assignment\n",
    "**Course:** AIPI 590 – Emerging Trends in Explainable AI (Fall 2025)  \n",
    "**Author:** Eric Ortega Rodriguez\n",
    "**Dataset:** [Telco Customer Churn](https://www.kaggle.com/datasets/blastchar/telco-customer-churn)\n",
    "\n",
    "[![Open In Colab](https://colab.research.google.com/assets/colab-badge.svg)](\n",
    "https://colab.research.google.com/github/ericiortega/aipi590-xai-fall2025/blob/main/assignments/interpretable_ml/interpretable_ml.ipynb)\n",
    "\n",
    "---\n"
   ]
  },
  {
   "cell_type": "markdown",
   "id": "97632376",
   "metadata": {},
   "source": []
  }
 ],
 "metadata": {
  "language_info": {
   "name": "python"
  }
 },
 "nbformat": 4,
 "nbformat_minor": 5
}
