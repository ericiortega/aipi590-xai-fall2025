{
  "cells": [
    {
      "cell_type": "markdown",
      "id": "602f1748",
      "metadata": {
        "colab_type": "text",
        "id": "view-in-github"
      },
      "source": [
        "<a href=\"https://colab.research.google.com/github/ericiortega/aipi590-xai-fall2025/blob/main/assignments/interpretable_ml/interpretable_ml.ipynb\" target=\"_parent\"><img src=\"https://colab.research.google.com/assets/colab-badge.svg\" alt=\"Open In Colab\"/></a>"
      ]
    },
    {
      "cell_type": "markdown",
      "id": "2da4e9d7",
      "metadata": {
        "id": "2da4e9d7"
      },
      "source": [
        "# Interpretable ML Assignment\n",
        "**Course:** AIPI 590 – Emerging Trends in Explainable AI (Fall 2025)  \n",
        "**Author:** Eric Ortega Rodriguez\n",
        "**Dataset:** [Telco Customer Churn](https://www.kaggle.com/datasets/blastchar/telco-customer-churn)\n",
        "\n",
        "---\n"
      ]
    },
    {
      "cell_type": "code",
      "execution_count": 1,
      "id": "uqFqFrjqKky8",
      "metadata": {
        "colab": {
          "base_uri": "https://localhost:8080/"
        },
        "id": "uqFqFrjqKky8",
        "outputId": "06eb0d92-a808-458f-afaa-4726d43b08a4"
      },
      "outputs": [
        {
          "name": "stdout",
          "output_type": "stream",
          "text": [
            "hello\n"
          ]
        }
      ],
      "source": [
        "print(\"hello\")"
      ]
    },
    {
      "cell_type": "markdown",
      "id": "97632376",
      "metadata": {
        "id": "97632376"
      },
      "source": []
    }
  ],
  "metadata": {
    "colab": {
      "include_colab_link": true,
      "provenance": []
    },
    "kernelspec": {
      "display_name": "Python 3",
      "name": "python3"
    },
    "language_info": {
      "name": "python"
    }
  },
  "nbformat": 4,
  "nbformat_minor": 5
}
